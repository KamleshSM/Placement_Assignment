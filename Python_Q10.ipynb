{
  "nbformat": 4,
  "nbformat_minor": 0,
  "metadata": {
    "colab": {
      "provenance": []
    },
    "kernelspec": {
      "name": "python3",
      "display_name": "Python 3"
    },
    "language_info": {
      "name": "python"
    }
  },
  "cells": [
    {
      "cell_type": "code",
      "execution_count": 1,
      "metadata": {
        "colab": {
          "base_uri": "https://localhost:8080/",
          "height": 70
        },
        "id": "jfpucJOHHiS9",
        "outputId": "32ce34a1-c3c5-4b73-ab86-0ce6b6e302b8"
      },
      "outputs": [
        {
          "output_type": "execute_result",
          "data": {
            "text/plain": [
              "'\\nQuestion 10 -\\nWrite a program to count the number of verbs, nouns, pronouns, and adjectives in a given particular phrase or \\nparagraph, and return their respective count as a dictionary.\\nNote -\\n1. Write code comments wherever required for code\\n2. You have to write at least 2 additional test cases in which your program will run successfully and provide \\nan explanation for the same.\\n'"
            ],
            "application/vnd.google.colaboratory.intrinsic+json": {
              "type": "string"
            }
          },
          "metadata": {},
          "execution_count": 1
        }
      ],
      "source": [
        "\"\"\"\n",
        "Question 10 -\n",
        "Write a program to count the number of verbs, nouns, pronouns, and adjectives in a given particular phrase or \n",
        "paragraph, and return their respective count as a dictionary.\n",
        "Note -\n",
        "1. Write code comments wherever required for code\n",
        "2. You have to write at least 2 additional test cases in which your program will run successfully and provide \n",
        "an explanation for the same.\n",
        "\"\"\""
      ]
    },
    {
      "cell_type": "code",
      "source": [],
      "metadata": {
        "id": "yaJwwY3KIC_X"
      },
      "execution_count": null,
      "outputs": []
    },
    {
      "cell_type": "code",
      "source": [
        "import nltk\n",
        "from nltk.tokenize import word_tokenize\n",
        "from nltk.tag import pos_tag\n",
        "#nltk.download('punkt')\n",
        "#nltk.download('averaged_perceptron_tagger')\n",
        "\n",
        "\n",
        "def count_pos_tags(text):\n",
        "    # Tokenize the text into words\n",
        "    words = word_tokenize(text)\n",
        "    \n",
        "    # Tag the words with their parts of speech\n",
        "    tagged_words = pos_tag(words)\n",
        "    \n",
        "    # Initialize counts dictionary\n",
        "    counts = {'Noun': 0, 'Verb': 0, 'Pronoun': 0, 'Adjective': 0}\n",
        "    \n",
        "    # Count the number of each POS tag\n",
        "    for word, tag in tagged_words:\n",
        "        if tag.startswith('NN'):\n",
        "            counts['Noun'] += 1\n",
        "        elif tag.startswith('VB'):\n",
        "            counts['Verb'] += 1\n",
        "        elif tag.startswith('PRP'):\n",
        "            counts['Pronoun'] += 1\n",
        "        elif tag.startswith('JJ'):\n",
        "            counts['Adjective'] += 1\n",
        "    \n",
        "    return counts\n",
        "\n",
        "# Example usage\n",
        "text = \"The quick brown fox jumps over the lazy dog.\"\n",
        "result = count_pos_tags(text)\n",
        "print(result)\n"
      ],
      "metadata": {
        "colab": {
          "base_uri": "https://localhost:8080/"
        },
        "id": "HSwyL7NDHx1O",
        "outputId": "682c361a-4195-449f-814b-a4f748f084f8"
      },
      "execution_count": 6,
      "outputs": [
        {
          "output_type": "stream",
          "name": "stdout",
          "text": [
            "{'Noun': 3, 'Verb': 1, 'Pronoun': 0, 'Adjective': 2}\n"
          ]
        }
      ]
    },
    {
      "cell_type": "markdown",
      "source": [
        "#### Explanation:\n",
        "In the given example, the phrase \"The quick brown fox jumps over the lazy dog.\" contains 3 nouns (\"fox\", \"dog\", \"quick\"), 1 verb (\"jumps\"), 0 pronouns, and 2 adjectives (\"quick\", \"lazy\"). The program counts these occurrences and returns a dictionary with the respective counts."
      ],
      "metadata": {
        "id": "v4gIxUFwIyjM"
      }
    },
    {
      "cell_type": "code",
      "source": [
        "text = \"She sells seashells by the seashore.\"\n",
        "result = count_pos_tags(text)\n",
        "print(result)"
      ],
      "metadata": {
        "colab": {
          "base_uri": "https://localhost:8080/"
        },
        "id": "uLGwSkcDH3kn",
        "outputId": "40a26d2a-c636-4868-b442-41c1c75cadcf"
      },
      "execution_count": 7,
      "outputs": [
        {
          "output_type": "stream",
          "name": "stdout",
          "text": [
            "{'Noun': 2, 'Verb': 1, 'Pronoun': 1, 'Adjective': 0}\n"
          ]
        }
      ]
    },
    {
      "cell_type": "code",
      "source": [
        "text = \"The sun is shining, the birds are singing.\"\n",
        "result = count_pos_tags(text)\n",
        "print(result)"
      ],
      "metadata": {
        "colab": {
          "base_uri": "https://localhost:8080/"
        },
        "id": "vO9JbuQAI40l",
        "outputId": "b9922947-627f-4656-af75-b507f1f53cd0"
      },
      "execution_count": 8,
      "outputs": [
        {
          "output_type": "stream",
          "name": "stdout",
          "text": [
            "{'Noun': 2, 'Verb': 4, 'Pronoun': 0, 'Adjective': 0}\n"
          ]
        }
      ]
    },
    {
      "cell_type": "code",
      "source": [],
      "metadata": {
        "id": "CsW-__0zI7-J"
      },
      "execution_count": null,
      "outputs": []
    }
  ]
}